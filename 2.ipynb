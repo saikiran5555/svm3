{
 "cells": [
  {
   "cell_type": "markdown",
   "id": "306d33c2",
   "metadata": {},
   "source": [
    "Mean Squared Error (MSE):\n",
    "\n",
    "MSE directly measures the average squared difference between the predicted and actual values.\n",
    "It penalizes larger errors more heavily, providing a more sensitive measure of the magnitude of errors.\n",
    "Minimizing MSE leads to predictions that are as close as possible to the true values in a squared sense.\n",
    "R-squared (R2) Score:\n",
    "\n",
    "R2 measures the proportion of the variance in the dependent variable that is predictable from the independent variables.\n",
    "While R2 is a useful metric for assessing the proportion of explained variance, it doesn't necessarily focus on the magnitude of errors.\n",
    "For house price prediction, the primary concern is often to minimize the difference between the predicted and actual prices. MSE is a direct measure of this difference, providing a clear indication of how well the model's predictions align with the actual prices. It is a commonly used metric in regression tasks and is well-suited for situations where accurate prediction of continuous values is the primary objective."
   ]
  }
 ],
 "metadata": {
  "kernelspec": {
   "display_name": "Python 3 (ipykernel)",
   "language": "python",
   "name": "python3"
  },
  "language_info": {
   "codemirror_mode": {
    "name": "ipython",
    "version": 3
   },
   "file_extension": ".py",
   "mimetype": "text/x-python",
   "name": "python",
   "nbconvert_exporter": "python",
   "pygments_lexer": "ipython3",
   "version": "3.10.9"
  }
 },
 "nbformat": 4,
 "nbformat_minor": 5
}
